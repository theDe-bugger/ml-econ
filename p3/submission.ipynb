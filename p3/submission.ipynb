{
 "cells": [
  {
   "cell_type": "code",
   "execution_count": null,
   "metadata": {},
   "outputs": [],
   "source": [
    "# utilize either training set to predict whether car price < 18,400 = 1 or 0 otherwise\n",
    "\n",
    "# create the  binary variable\n",
    "\n",
    "# use available features to predict the binary var\n",
    "\n",
    "# only KNN\n",
    "\n",
    "# can use any features included (year, mileage) or others that can be constructed (not from price var tho)\n",
    "\n"
   ]
  },
  {
   "cell_type": "code",
   "execution_count": null,
   "metadata": {},
   "outputs": [],
   "source": [
    "# Question 2) \n",
    "# using the training data (large or small), draw a graph that replicates the pattern in 2.17\n",
    "\n",
    "# Show that KNN estimation has following pattern:\n",
    "# 1) training error decreases as 1/K increases\n",
    "# 2) test error first decreases and then increases as 1/K (flexibility) increases\n",
    "\n",
    "# Report code and graph"
   ]
  },
  {
   "cell_type": "code",
   "execution_count": null,
   "metadata": {},
   "outputs": [],
   "source": [
    "# Question 3)\n",
    "\n",
    "# Using training data only, draw a figure with:\n",
    "# 1 and 2 types of error rates as a function of classification threshold\n",
    "# 3) the overall error rate as a function of the classification threshold\n",
    "# Replicate figure 4.7 for training set\n",
    "\n",
    "# Draw an additional figure of the ROC curve (figure 4.8)"
   ]
  }
 ],
 "metadata": {
  "language_info": {
   "name": "python"
  },
  "orig_nbformat": 4
 },
 "nbformat": 4,
 "nbformat_minor": 2
}
